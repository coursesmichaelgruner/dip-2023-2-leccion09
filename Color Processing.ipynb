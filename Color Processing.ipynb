{
 "cells": [
  {
   "cell_type": "markdown",
   "metadata": {},
   "source": [
    "# Color Processing\n",
    "\n",
    "This notebook presents some practical exercises on color processing.\n",
    "\n",
    "## Dependencies\n",
    "\n",
    "Please make sure the following packages are installed.\n",
    "\n",
    "```bash\n",
    "sudo pip3 install pandas\n",
    "```\n",
    "\n",
    "## Common Imports\n",
    "\n",
    "Make sure you run this kernel first, to import once every dependency."
   ]
  },
  {
   "cell_type": "code",
   "execution_count": null,
   "metadata": {},
   "outputs": [],
   "source": [
    "import pandas as pd\n",
    "import numpy as np\n",
    "import cv2\n",
    "from matplotlib import pyplot as plt\n",
    "from ipywidgets import interact, interactive\n",
    "import ipywidgets as widgets"
   ]
  },
  {
   "cell_type": "markdown",
   "metadata": {},
   "source": [
    "## RGB Images in OpenCV\n",
    "\n",
    "RGB images in OpenCV are handled as a 3 dimensional arrays as $w\\times h \\times c$ where $w$,$h$ and $c$ are the width, height and channels respectively. For the specific RGB case, $c$ is 3.\n",
    "\n",
    "Let's experiment with these channels."
   ]
  },
  {
   "cell_type": "code",
   "execution_count": null,
   "metadata": {},
   "outputs": [],
   "source": [
    "img = cv2.imread('landscape.jpeg')\n",
    "\n",
    "# Double check the image dimensions\n",
    "h,w,c = img.shape\n",
    "print(w,h,c)\n",
    "\n",
    "# Display the original image\n",
    "plt.imshow(cv2.cvtColor(img, cv2.COLOR_RGB2BGR))\n",
    "plt.figure()\n",
    "\n",
    "B,G,R=0,1,2\n",
    "tocopy=B\n",
    "\n",
    "channel = np.uint8(np.zeros((h,w,c)))\n",
    "\n",
    "# Naive implementation, dont do this!!!\n",
    "for row in range(h):\n",
    "    for col in range(w):\n",
    "        channel[row,col,tocopy] = img[row,col,tocopy]\n",
    "\n",
    "# Slice approach, much more efficient\n",
    "#channel[:,:,tocopy] = img[:,:,tocopy]\n",
    "\n",
    "plt.imshow(cv2.cvtColor(channel, cv2.COLOR_RGB2BGR))"
   ]
  },
  {
   "cell_type": "markdown",
   "metadata": {},
   "source": [
    "### Practice\n",
    "\n",
    "Lets build an image that is formed by 1/3rd of the red channel, 1/3rd of the blue channel, and 1/3rd of the green channel of the original image.\n",
    "\n",
    "```\n",
    "         .---------.\n",
    "         |   RED   |\n",
    "         |---------|\n",
    "         |  GREEN  |\n",
    "         |---------|\n",
    "         |  BLUE   |\n",
    "         '---------'\n",
    "```"
   ]
  },
  {
   "cell_type": "code",
   "execution_count": null,
   "metadata": {},
   "outputs": [],
   "source": [
    "img = cv2.imread('landscape.jpeg')\n",
    "\n",
    "# Double check the image dimensions\n",
    "h,w,c = img.shape\n",
    "print(w,h,c)\n",
    "\n",
    "# Write here the built image\n",
    "meld = np.uint8(np.zeros((h,w,c)))\n",
    "\n",
    "# Display the original image\n",
    "plt.imshow(cv2.cvtColor(img, cv2.COLOR_RGB2BGR))\n",
    "plt.figure()\n",
    "\n",
    "# Display the output image\n",
    "plt.imshow(cv2.cvtColor(meld, cv2.COLOR_RGB2BGR))"
   ]
  },
  {
   "cell_type": "markdown",
   "metadata": {},
   "source": [
    "## Pseudocolor\n",
    "\n",
    "The following exercise allows you to add pseudocolor to a a real-life thermal camera output using LUT (Look Up Tables). Use OpenCV and Pandas to try out different thermal palettes.\n",
    "\n",
    "1. Read `palettes.csv` using Pandas\n",
    "2. Choose one of the palettes\n",
    "3. Build an RGB LUT\n",
    "\n",
    "The palet will contain a single integer in hex format with `0xAABBGGRR`. For example:\n",
    "```python\n",
    "color = 0xff0c10fa\n",
    "A = 255 # 0xff\n",
    "B = 12 # 0x0c\n",
    "G = 16 # 0x10\n",
    "R = 250 # 0xfa\n",
    "```\n",
    "\n",
    "4. Load `thermal.avi` and read frame by frame\n",
    "5. Iterate through all pixels using its value to index the LUT\n",
    "6. Build and display an artificially colored image. (Use OpenCV's imshow to allow animations)"
   ]
  },
  {
   "cell_type": "code",
   "execution_count": null,
   "metadata": {},
   "outputs": [],
   "source": [
    "# How to read all the palettes\n",
    "data = pd.read_csv('palettes.csv')\n",
    "\n",
    "# How to read a single pallete\n",
    "palette = data['ironbow']\n",
    "\n",
    "LUT = np.zeros((256,3), dtype='uint8')\n",
    "\n",
    "for i in range(256):\n",
    "    color = int(palette[i],0)\n",
    "\n",
    "    A = (color & 0xff000000) >> 24\n",
    "    B = (color & 0x00ff0000) >> 16\n",
    "    G = (color & 0x0000ff00) >> 8\n",
    "    R = (color & 0x000000ff)\n",
    "    LUT[i] = [B, G, R]\n",
    "\n",
    "cap = cv2.VideoCapture('thermal_small.avi')\n",
    "img = np.zeros((240,320,3), dtype='uint8')\n",
    "\n",
    "tune = 0.5\n",
    "\n",
    "print (\"Starting\")\n",
    "while(True):\n",
    "    # Capture frame-by-frame\n",
    "    ret, frame = cap.read()\n",
    "    if not ret:\n",
    "        print (\"End of video\")\n",
    "        break\n",
    "        \n",
    "    for row in range(frame.shape[0]):\n",
    "        for col in range(frame.shape[1]):\n",
    "            index = int(frame[row,col,1])\n",
    "            img[row,col] = LUT[index]\n",
    "    \n",
    "    # Display the resulting frame using matplotlib\n",
    "    #plt.imshow(img)\n",
    "    #plt.show()\n",
    "    \n",
    "    # Display the resulting frame using opencv\n",
    "    cv2.imshow('frame', np.uint8(img*tune))\n",
    "    if cv2.waitKey(33) == 'q':\n",
    "        break\n"
   ]
  },
  {
   "cell_type": "markdown",
   "metadata": {},
   "source": [
    "### Practice\n",
    "\n",
    "Can you think of a more efficient way to achieve this using slice processing?"
   ]
  },
  {
   "cell_type": "code",
   "execution_count": null,
   "metadata": {},
   "outputs": [],
   "source": [
    "# How to read all the palettes\n",
    "data = pd.read_csv('palettes.csv')\n",
    "\n",
    "# How to read a single pallete\n",
    "palette = data['ironbow']\n",
    "\n",
    "LUT = np.zeros((256,3), dtype='uint8')\n",
    "\n",
    "for i in range(256):\n",
    "    color = int(palette[i],0)\n",
    "\n",
    "    A = (color & 0xff000000) >> 24\n",
    "    B = (color & 0x00ff0000) >> 16\n",
    "    G = (color & 0x0000ff00) >> 8\n",
    "    R = (color & 0x000000ff)\n",
    "    LUT[i] = [B, G, R]\n",
    "\n",
    "cap = cv2.VideoCapture('thermal_small.avi')\n",
    "img = np.zeros((240,320,3), dtype='uint8')\n",
    "\n",
    "tune = 0.5\n",
    "\n",
    "print (\"Starting\")\n",
    "while(True):\n",
    "    # Capture frame-by-frame\n",
    "    ret, frame = cap.read()\n",
    "    if not ret:\n",
    "        print (\"End of video\")\n",
    "        break\n",
    "\n",
    "    # PROCESS HERE\n",
    "    # PROCESS HERE\n",
    "    # PROCESS HERE\n",
    "    \n",
    "    # Display the resulting frame using matplotlib\n",
    "    #plt.imshow(img)\n",
    "    #plt.show()\n",
    "    \n",
    "    # Display the resulting frame using opencv\n",
    "    cv2.imshow('frame', np.uint8(img*tune))\n",
    "    if cv2.waitKey(33) == 'q':\n",
    "        break"
   ]
  },
  {
   "cell_type": "markdown",
   "metadata": {},
   "source": [
    "## Color Spaces\n",
    "\n",
    "You can think of color spaces as different coordinate axis that span spaces where colors can be defined. In digital medias it is common to represent colors in device-dependent color-spaces such as `RGB` or `Y'C'bC'r`.\n",
    "\n",
    "OpenCV provides severl built-in color-space-transformation utilities. See [the official documentation](https://docs.opencv.org/3.1.0/de/d25/imgproc_color_conversions.html) and [some extra formats](https://docs.opencv.org/3.1.0/d7/d1b/group__imgproc__misc.html).\n",
    "\n",
    "### RGB to YCbCr (UYVY)\n",
    "\n",
    "Very often you will require fine-grained control over your images color format. In this exercise you will manually convert an `RGB` image to `YCbCr` in the [UYVY format](https://www.fourcc.org/pixel-format/yuv-uyvy/). Note that OpenCV handles the format in a slightly different format (two channels).\n"
   ]
  },
  {
   "cell_type": "code",
   "execution_count": null,
   "metadata": {},
   "outputs": [],
   "source": [
    "rgb = cv2.imread('lenna.png')\n",
    "\n",
    "rows, cols, _ = rgb.shape\n",
    "uyvy = np.zeros((rows, cols, 2), dtype='uint8')\n",
    "print(uyvy.shape)\n",
    "\n",
    "for row in range(0, rows):\n",
    "    for col in range(0, cols, 2):\n",
    "        B1, G1, R1 = rgb[row, col]\n",
    "        B2, G2, R2 = rgb[row, col + 1]\n",
    "        \n",
    "        y1 = R1*0.299 + G1*0.587 + B1*0.114\n",
    "        y2 = R2*0.299 + G2*0.587 + B2*0.114\n",
    "        u = (R1 - y1)*0.713 + 128\n",
    "        v = (B1 - y1)*0.564 + 128\n",
    "        \n",
    "        uyvy[row, col + 0, 0] = u\n",
    "        uyvy[row, col + 1, 0] = v\n",
    "        uyvy[row, col + 0, 1] = y1\n",
    "        uyvy[row, col + 1, 1] = y2\n",
    "\n",
    "# Convert Back to RGB to display it\n",
    "plt.imshow(cv2.cvtColor (uyvy, cv2.COLOR_YUV2BGR_UYVY))"
   ]
  },
  {
   "cell_type": "markdown",
   "metadata": {},
   "source": [
    "### RGB to YCbCr (YUY2)\n",
    "\n",
    "Repeat the exercise above but for the [YUY2 Format](https://www.fourcc.org/pixel-format/yuv-yuy2/)"
   ]
  },
  {
   "cell_type": "code",
   "execution_count": null,
   "metadata": {},
   "outputs": [],
   "source": [
    "# Try it yourself"
   ]
  },
  {
   "cell_type": "markdown",
   "metadata": {},
   "source": [
    "### RGB to YCbCr (I420)\n",
    "\n",
    "Repeat the exercise above but for the [I420 Format](https://www.fourcc.org/pixel-format/yuv-i420/)"
   ]
  },
  {
   "cell_type": "code",
   "execution_count": null,
   "metadata": {},
   "outputs": [],
   "source": [
    "# Try it yourself"
   ]
  },
  {
   "cell_type": "markdown",
   "metadata": {},
   "source": [
    "## Histogram Equalization\n",
    "### Grayscale Historgram Equalization\n",
    "\n",
    "To start of, load `landscape.jpeg` in grayscale and equalize its histogram using [cv2.equalizeHistogram](https://docs.opencv.org/3.1.0/d6/dc7/group__imgproc__hist.html#ga7e54091f0c937d49bf84152a16f76d6e)\n",
    "\n",
    "Additional references:\n",
    "* [Histogram Computation Example](https://docs.opencv.org/3.1.0/d1/db7/tutorial_py_histogram_begins.html)\n",
    "* [Histogram Equalization Example](https://docs.opencv.org/3.1.0/d4/d1b/tutorial_histogram_equalization.html)\n"
   ]
  },
  {
   "cell_type": "code",
   "execution_count": null,
   "metadata": {},
   "outputs": [],
   "source": [
    "img = cv2.imread('landscape.jpeg', cv2.IMREAD_GRAYSCALE)\n",
    "hist = cv2.calcHist([img],[0],None,[256],[0,256])\n",
    "\n",
    "plt.imshow(img, cmap='gray')\n",
    "plt.title('Original Image')\n",
    "plt.figure()\n",
    "\n",
    "plt.plot (hist)\n",
    "plt.title('Histogram')\n",
    "plt.figure()\n",
    "\n",
    "# Equalize and display new image and histogram\n",
    "img2 = cv2.equalizeHist(img)\n",
    "hist2 = cv2.calcHist([img2],[0],None,[256],[0,256])\n",
    "\n",
    "plt.imshow(img2, cmap='gray')\n",
    "plt.title('Equalized Image')\n",
    "plt.figure()\n",
    "\n",
    "plt.plot (hist2)\n",
    "plt.title('Equalized Histogram')\n",
    "plt.figure()"
   ]
  },
  {
   "cell_type": "markdown",
   "metadata": {},
   "source": [
    "### Independent Channel Equalization\n",
    "\n",
    "Now load the image in RGB format, and experiment by equalizing each channel independently, and combinations of them."
   ]
  },
  {
   "cell_type": "code",
   "execution_count": null,
   "metadata": {},
   "outputs": [],
   "source": [
    "@interact(R=True, G=False, B=False)\n",
    "def equalize(R, G, B):\n",
    "    img = cv2.imread('landscape.jpeg')\n",
    "    blue = img[:,:,0]\n",
    "    green = img[:,:,1]\n",
    "    red = img[:,:,2]\n",
    "\n",
    "    if B == True:\n",
    "        blue = cv2.equalizeHist(blue)\n",
    "    if G == True:\n",
    "        green = cv2.equalizeHist(green)\n",
    "    if R == True:\n",
    "        red = cv2.equalizeHist(red)\n",
    "        \n",
    "    img[:,:,0] = blue\n",
    "    img[:,:,1] = green\n",
    "    img[:,:,2] = red\n",
    "    \n",
    "    # Practice! Display each the color histograms\n",
    "    \n",
    "    # This is required since MatPlotLib and OpenCV don't agree in RGB\n",
    "    img = cv2.cvtColor(img, cv2.COLOR_RGB2BGR)\n",
    "\n",
    "    \n",
    "    plt.imshow(img)"
   ]
  },
  {
   "cell_type": "markdown",
   "metadata": {},
   "source": [
    "### Complete Color Equalization\n",
    "\n",
    "Finally, load the image in RGB format, convert to YCbCr and equalize the luminance instead."
   ]
  },
  {
   "cell_type": "code",
   "execution_count": null,
   "metadata": {},
   "outputs": [],
   "source": [
    "@interact(Y=True, U=False, V=False)\n",
    "def equalize(Y, U, V):\n",
    "    img = cv2.imread('landscape.jpeg')\n",
    "    \n",
    "    yuv = cv2.cvtColor(img, cv2.COLOR_RGB2YUV)\n",
    "\n",
    "    if Y:\n",
    "        yuv[:,:,0] = cv2.equalizeHist(yuv[:,:,0])\n",
    "    if U:\n",
    "        yuv[:,:,1] = cv2.equalizeHist(yuv[:,:,1])\n",
    "    if V:\n",
    "        yuv[:,:,2] = cv2.equalizeHist(yuv[:,:,2])\n",
    "\n",
    "    img2 = cv2.cvtColor(yuv, cv2.COLOR_YUV2RGB)\n",
    "\n",
    "    plt.imshow(cv2.cvtColor(img, cv2.COLOR_RGB2BGR))\n",
    "    plt.figure()\n",
    "    plt.imshow(cv2.cvtColor(img2, cv2.COLOR_RGB2BGR))"
   ]
  },
  {
   "cell_type": "markdown",
   "metadata": {},
   "source": [
    "## Color Probability Maps\n",
    "\n",
    "Now let's implement a naive version of the color probability maps algorithm. This implementation will be based on the original paper: [Statistical Color Models with Applications on Skin Detection](https://www.hpl.hp.com/techreports/Compaq-DEC/CRL-98-11.pdf). The data set was taken from the [UCI Skin Detection Data Set](https://archive.ics.uci.edu/ml/datasets/skin+segmentation)"
   ]
  },
  {
   "cell_type": "code",
   "execution_count": null,
   "metadata": {},
   "outputs": [],
   "source": [
    "data = pd.read_csv('Skin_NonSkin.txt', sep='\\t', names=['B', 'G', 'R', 'Class'])\n",
    "print(data)\n",
    "\n",
    "is_skin = data['Class'] == 1\n",
    "is_not_skin = data['Class'] == 2\n",
    "\n",
    "skin = data[is_skin]\n",
    "non_skin = data[is_not_skin]\n",
    "\n",
    "print(skin.shape)\n",
    "print(non_skin.shape)"
   ]
  },
  {
   "cell_type": "code",
   "execution_count": null,
   "metadata": {},
   "outputs": [],
   "source": [
    "number_of_bins = 32\n",
    "bins=255/number_of_bins\n",
    "\n",
    "H = {}\n",
    "for index, row in data.iterrows():\n",
    "    pos = (int(row['B']/bins), int(row['G']/bins), int(row['R']/bins))\n",
    "    if not H.get(pos):\n",
    "        H[pos] = 0\n",
    "    H[pos] += 1"
   ]
  },
  {
   "cell_type": "code",
   "execution_count": null,
   "metadata": {},
   "outputs": [],
   "source": [
    "H_skin = {}\n",
    "for index, row in skin.iterrows():\n",
    "    pos = (int(row['B']/bins), int(row['G']/bins), int(row['R']/bins))\n",
    "    if not H_skin.get(pos):\n",
    "        H_skin[pos] = 0\n",
    "    H_skin[pos] += 1"
   ]
  },
  {
   "cell_type": "code",
   "execution_count": null,
   "metadata": {},
   "outputs": [],
   "source": [
    "H_non_skin = {}\n",
    "for index, row in non_skin.iterrows():\n",
    "    pos = (int(row['B']/bins), int(row['G']/bins), int(row['R']/bins))\n",
    "    if not H_non_skin.get(pos):\n",
    "        H_non_skin[pos] = 0\n",
    "    H_non_skin[pos] += 1"
   ]
  },
  {
   "cell_type": "code",
   "execution_count": null,
   "metadata": {},
   "outputs": [],
   "source": [
    "Ts = len(skin)\n",
    "Tn = len(non_skin)\n",
    "T = len(data)\n",
    "P_skin = Ts/(Ts + Tn)\n",
    "P_non_skin = 1 - P_skin\n",
    "\n",
    "img = cv2.imread('gesture_accept.png')\n",
    "plt.imshow(cv2.cvtColor(img, cv2.COLOR_BGR2RGB))\n",
    "\n",
    "rows, cols, _ = img.shape\n",
    "\n",
    "spm = np.zeros((rows,cols))\n",
    "\n",
    "for row in range(0,rows):\n",
    "    for col in range(0,cols):\n",
    "        B,G,R = img[row,col]\n",
    "        \n",
    "        B = int(B/bins)\n",
    "        G = int(G/bins)\n",
    "        R = int(R/bins)\n",
    "        \n",
    "        has_value = H_skin.get((B,G,R))\n",
    "        P_rgb_skin = 0 if not has_value else has_value\n",
    "        P_rgb_skin /= Ts\n",
    "        \n",
    "        has_value = H_non_skin.get((B,G,R))\n",
    "        P_rgb_non_skin = 0 if not has_value else has_value\n",
    "        P_rgb_non_skin /= Tn\n",
    "        \n",
    "        has_value = H.get((B,G,R))\n",
    "        P_rgb = 0 if not has_value else has_value\n",
    "        P_rgb /= T\n",
    "\n",
    "        spm[row,col] = (P_rgb_skin*P_skin)/(P_rgb_skin*P_skin + P_rgb_non_skin*P_non_skin + 1e-6)\n",
    "\n",
    "plt.figure()\n",
    "plt.imshow(spm, cmap='gray')\n",
    "print(np.max(spm))"
   ]
  },
  {
   "cell_type": "code",
   "execution_count": null,
   "metadata": {},
   "outputs": [],
   "source": [
    "print (np.max(spm))"
   ]
  },
  {
   "cell_type": "code",
   "execution_count": null,
   "metadata": {},
   "outputs": [],
   "source": [
    "cam = cv2.VideoCapture(2)\n",
    "cam.set(cv2.CAP_PROP_FRAME_WIDTH, 320)\n",
    "cam.set(cv2.CAP_PROP_FRAME_HEIGHT, 240)\n",
    "\n",
    "while True:\n",
    "    ret, img = cam.read()\n",
    "    rows, cols, _ = img.shape\n",
    "\n",
    "    spm = np.zeros((rows,cols))\n",
    "\n",
    "    for row in range(0,rows):\n",
    "        for col in range(0,cols):\n",
    "            B,G,R = img[row,col]\n",
    "        \n",
    "            B = int(B/bins)\n",
    "            G = int(G/bins)\n",
    "            R = int(R/bins)\n",
    "        \n",
    "            has_value = H_skin.get((B,G,R))\n",
    "            P_rgb_skin = 0 if not has_value else has_value\n",
    "            P_rgb_skin /= Ts\n",
    "        \n",
    "            has_value = H_non_skin.get((B,G,R))\n",
    "            P_rgb_non_skin = 0 if not has_value else has_value\n",
    "            P_rgb_non_skin /= Tn\n",
    "        \n",
    "            has_value = H.get((B,G,R))\n",
    "            P_rgb = 0 if not has_value else has_value\n",
    "            P_rgb /= T\n",
    "\n",
    "            spm[row,col] = (P_rgb_skin*P_skin)/(P_rgb_skin*P_skin + P_rgb_non_skin*P_non_skin + 1e-6)\n",
    "\n",
    "    cv2.imshow('Probability Map', spm)\n",
    "    cv2.imshow('Original', img)\n",
    "    \n",
    "    if (cv2.waitKey(1) & 0xFF) == ord('q'):\n",
    "        break\n",
    "\n",
    "cam.release()\n",
    "cv2.destroyAllWindows()\n",
    "print(min(np.reshape(spm, spm.size,1)))\n"
   ]
  }
 ],
 "metadata": {
  "kernelspec": {
   "display_name": "Python 3 (ipykernel)",
   "language": "python",
   "name": "python3"
  },
  "language_info": {
   "codemirror_mode": {
    "name": "ipython",
    "version": 3
   },
   "file_extension": ".py",
   "mimetype": "text/x-python",
   "name": "python",
   "nbconvert_exporter": "python",
   "pygments_lexer": "ipython3",
   "version": "3.11.3"
  }
 },
 "nbformat": 4,
 "nbformat_minor": 4
}
